{
 "cells": [
  {
   "cell_type": "code",
   "execution_count": 1,
   "metadata": {},
   "outputs": [],
   "source": [
    "# Data manipulation\n",
    "import pandas as pd # data manipulation and dataframes\n",
    "from pandas_geojson import read_geojson, write_geojson"
   ]
  },
  {
   "cell_type": "code",
   "execution_count": 2,
   "metadata": {},
   "outputs": [],
   "source": [
    "# Pandas configuration\n",
    "pd.set_option('display.max_columns', None)  # shows all columns\n",
    "pd.set_option('display.max_colwidth', None)  # shows all cell content"
   ]
  },
  {
   "cell_type": "code",
   "execution_count": 3,
   "metadata": {},
   "outputs": [],
   "source": [
    "def read_csv(city):\n",
    "\n",
    "    # Reads csv\n",
    "    df_city = pd.read_csv(f'../data/airbnb/{city}/listings.csv', index_col = 0)\n",
    "\n",
    "    # Index\n",
    "    df_city.reset_index(drop = False, inplace = True)\n",
    "\n",
    "    return df_city"
   ]
  },
  {
   "cell_type": "code",
   "execution_count": 4,
   "metadata": {},
   "outputs": [],
   "source": [
    "def get_description_score_facilities(df_name_col):\n",
    "\n",
    "    name = df_name_col.tolist()\n",
    "\n",
    "    aux = []\n",
    "\n",
    "    for n in name:\n",
    "\n",
    "        aux.append(n.split('·'))\n",
    "\n",
    "    description = []\n",
    "    score = []\n",
    "    facilities_prev = []\n",
    "\n",
    "    for sublist in aux:\n",
    "\n",
    "        description.append(sublist[0].capitalize().rstrip(' '))\n",
    "        sublist.remove(sublist[0])\n",
    "\n",
    "        if '★' in sublist[0]:\n",
    "\n",
    "            score.append(sublist[0].rstrip(' ').lstrip(' '))\n",
    "            sublist.remove(sublist[0])\n",
    "        \n",
    "        else:\n",
    "\n",
    "            score.append('★Unknown')\n",
    "\n",
    "        facilities_prev.append(sublist[:])\n",
    "\n",
    "    for sublist in facilities_prev:\n",
    "\n",
    "        sublist[-1] = sublist[-1] + ' '\n",
    "\n",
    "    facilities = []\n",
    "\n",
    "    for sublist in facilities_prev:\n",
    "\n",
    "        aux2 = []\n",
    "\n",
    "        for e in sublist:\n",
    "\n",
    "            e = e.rstrip(' ').lstrip(' ')\n",
    "\n",
    "            aux2.append(e)\n",
    "\n",
    "        facilities.append(aux2)\n",
    "\n",
    "    return [description, score, facilities]"
   ]
  },
  {
   "cell_type": "code",
   "execution_count": 5,
   "metadata": {},
   "outputs": [],
   "source": [
    "# Splits column name into description, score and facilities\n",
    "\n",
    "def split_name_col(df_city):\n",
    "\n",
    "    df_city['description'] = get_description_score_facilities(df_city.name)[0]\n",
    "    df_city['score'] = get_description_score_facilities(df_city.name)[1]\n",
    "    df_city['facilities'] = get_description_score_facilities(df_city.name)[2]\n",
    "    df_city['facilities'] = df_city['facilities'].apply(lambda x: ', '.join(map(str, x)))"
   ]
  },
  {
   "cell_type": "code",
   "execution_count": 6,
   "metadata": {},
   "outputs": [],
   "source": [
    "def drop_rename(df_city):\n",
    "\n",
    "    #Drops useless cols\n",
    "    df_city.drop(['id', 'host_id', 'name', 'reviews_per_month', 'calculated_host_listings_count', 'number_of_reviews_ltm', 'license'], axis=1, inplace=True)\n",
    "\n",
    "    # Renames neighbourhood_group col by district\n",
    "    df_city = df_city.rename(columns={'neighbourhood_group': 'district'})\n",
    "\n",
    "    df_city['district'] = df_city['district'].apply(lambda x: x.lower().capitalize())\n",
    "\n",
    "    return df_city"
   ]
  },
  {
   "cell_type": "code",
   "execution_count": 7,
   "metadata": {},
   "outputs": [],
   "source": [
    "def new_col_order(df_city):\n",
    "\n",
    "        col_order = ['description', 'score', 'facilities', \n",
    "                     'district', 'neighbourhood', \n",
    "                     'room_type', 'price', 'minimum_nights', \n",
    "                     'host_name', 'number_of_reviews', \n",
    "                     'last_review', 'latitude', 'longitude']\n",
    "\n",
    "        # Orders columns\n",
    "        df_city = df_city[col_order]\n",
    "\n",
    "        return df_city"
   ]
  },
  {
   "cell_type": "code",
   "execution_count": 8,
   "metadata": {},
   "outputs": [],
   "source": [
    "def col_names_kepler(df_city):\n",
    "\n",
    "    new_cols = {col: col.capitalize().replace('_',' ') for col in df_city.columns}\n",
    "    df_city.rename(columns=new_cols, inplace=True)"
   ]
  },
  {
   "cell_type": "code",
   "execution_count": 9,
   "metadata": {},
   "outputs": [],
   "source": [
    "# Saves df to csv\n",
    "\n",
    "def save_csv(df_city, city):\n",
    "\n",
    "    df_city.to_csv(f'../data/kepler/airbnb_{city}.csv', index = False, sep = ',')"
   ]
  },
  {
   "cell_type": "code",
   "execution_count": 10,
   "metadata": {},
   "outputs": [],
   "source": [
    "def clean_save_geojson(city):\n",
    "\n",
    "    path_to_file = f'../data/airbnb/{city}/neighbourhoods.geojson'\n",
    "    geo_json = read_geojson(path_to_file)\n",
    "\n",
    "    for i in range(0, len(geo_json)):\n",
    "\n",
    "        geo_json['features'][i]['properties']['Neighbourhood'] = geo_json['features'][i]['properties']['neighbourhood']\n",
    "        del geo_json['features'][i]['properties']['neighbourhood']\n",
    "\n",
    "        geo_json['features'][i]['properties']['District'] = geo_json['features'][i]['properties']['neighbourhood_group']\n",
    "        del geo_json['features'][i]['properties']['neighbourhood_group']\n",
    "\n",
    "    write_geojson(geo_json, filename=f'../data/kepler/neighbourhood_{city}.geojson')"
   ]
  },
  {
   "cell_type": "code",
   "execution_count": 11,
   "metadata": {},
   "outputs": [],
   "source": [
    "cities = ['madrid', 'porto', 'lisbon']\n",
    "\n",
    "for city in cities:\n",
    "    \n",
    "    df_city = read_csv(city)\n",
    "    split_name_col(df_city)\n",
    "    df_city = drop_rename(df_city)\n",
    "    df_city = new_col_order(df_city)\n",
    "    col_names_kepler(df_city)\n",
    "    save_csv(df_city, city)\n",
    "    clean_save_geojson(city)"
   ]
  }
 ],
 "metadata": {
  "kernelspec": {
   "display_name": "base",
   "language": "python",
   "name": "python3"
  },
  "language_info": {
   "codemirror_mode": {
    "name": "ipython",
    "version": 3
   },
   "file_extension": ".py",
   "mimetype": "text/x-python",
   "name": "python",
   "nbconvert_exporter": "python",
   "pygments_lexer": "ipython3",
   "version": "3.10.9"
  },
  "orig_nbformat": 4
 },
 "nbformat": 4,
 "nbformat_minor": 2
}
