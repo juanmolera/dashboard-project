{
 "cells": [
  {
   "cell_type": "code",
   "execution_count": 16,
   "metadata": {},
   "outputs": [],
   "source": [
    "# Data manipulation\n",
    "import pandas as pd\n",
    "\n",
    "# Geojson\n",
    "from pandas_geojson import read_geojson, write_geojson\n",
    "\n",
    "# Datetime\n",
    "from datetime import datetime"
   ]
  },
  {
   "cell_type": "code",
   "execution_count": 17,
   "metadata": {},
   "outputs": [],
   "source": [
    "def read_csv(city):\n",
    "\n",
    "    # Reads csv\n",
    "    df_city = pd.read_csv(f'../raw/airbnb/{city}/listings.csv', encoding='utf-8')\n",
    "\n",
    "    return df_city"
   ]
  },
  {
   "cell_type": "code",
   "execution_count": 18,
   "metadata": {},
   "outputs": [],
   "source": [
    "def get_description_score_facilities(df_name_col):\n",
    "\n",
    "    name = df_name_col.tolist()\n",
    "\n",
    "    aux = []\n",
    "\n",
    "    for n in name:\n",
    "\n",
    "        aux.append(n.split('·'))\n",
    "\n",
    "    description = []\n",
    "    score = []\n",
    "    facilities_prev = []\n",
    "\n",
    "    for sublist in aux:\n",
    "\n",
    "        description.append(sublist[0].capitalize().rstrip(' '))\n",
    "        sublist.remove(sublist[0])\n",
    "\n",
    "        if '★' in sublist[0]:\n",
    "\n",
    "            score.append(sublist[0].rstrip(' ').lstrip(' '))\n",
    "            sublist.remove(sublist[0])\n",
    "        \n",
    "        else:\n",
    "\n",
    "            score.append('★Unknown')\n",
    "\n",
    "        facilities_prev.append(sublist[:])\n",
    "\n",
    "    for sublist in facilities_prev:\n",
    "\n",
    "        sublist[-1] = sublist[-1] + ' '\n",
    "\n",
    "    facilities = []\n",
    "\n",
    "    for sublist in facilities_prev:\n",
    "\n",
    "        aux2 = []\n",
    "\n",
    "        for e in sublist:\n",
    "\n",
    "            e = e.rstrip(' ').lstrip(' ')\n",
    "\n",
    "            aux2.append(e)\n",
    "\n",
    "        facilities.append(aux2)\n",
    "\n",
    "    return [description, score, facilities]"
   ]
  },
  {
   "cell_type": "code",
   "execution_count": 19,
   "metadata": {},
   "outputs": [],
   "source": [
    "# Splits column name into description, score and facilities\n",
    "\n",
    "def split_name_col(df_city):\n",
    "\n",
    "    df_city['description'] = get_description_score_facilities(df_city.name)[0]\n",
    "    df_city['score'] = get_description_score_facilities(df_city.name)[1]\n",
    "    df_city['facilities'] = get_description_score_facilities(df_city.name)[2]\n",
    "    df_city['facilities'] = df_city['facilities'].apply(lambda x: ', '.join(map(str, x)))"
   ]
  },
  {
   "cell_type": "code",
   "execution_count": 20,
   "metadata": {},
   "outputs": [],
   "source": [
    "def drop_rename_timestamp(df_city):\n",
    "\n",
    "    # Drops useless cols\n",
    "    df_city.drop(['id', 'host_id', 'name', 'reviews_per_month', 'calculated_host_listings_count', 'number_of_reviews_ltm', 'license'], axis=1, inplace=True)\n",
    "\n",
    "    # Renames neighbourhood_group col by district\n",
    "    df_city = df_city.rename(columns={'neighbourhood_group': 'district'})\n",
    "\n",
    "    #df_city['district'] = df_city['district'].apply(lambda x: x.lower().capitalize())\n",
    "\n",
    "    #df_city['last_review'] = pd.to_datetime(df_city['last_review'], dayfirst=True)\n",
    "    #df_city['last_review'] = pd.to_datetime(df_city['last_review'], format='%Y/%m/%d %H:%M:%S').dt.strftime('%Y-%m-%d %H:%M:%S')\n",
    "    df_city['last_review'] = pd.to_datetime(df_city['last_review'], format='%Y-%m-%d', errors='coerce')\n",
    "\n",
    "    return df_city"
   ]
  },
  {
   "cell_type": "code",
   "execution_count": 21,
   "metadata": {},
   "outputs": [],
   "source": [
    "def new_col_order(df_city):\n",
    "\n",
    "        col_order = ['description', 'score', 'facilities', \n",
    "                     'district', 'neighbourhood', \n",
    "                     'room_type', 'price', 'minimum_nights', \n",
    "                     'host_name', 'number_of_reviews', \n",
    "                     'last_review', 'latitude', 'longitude']\n",
    "\n",
    "        # Orders columns\n",
    "        df_city = df_city[col_order]\n",
    "\n",
    "        return df_city"
   ]
  },
  {
   "cell_type": "code",
   "execution_count": 22,
   "metadata": {},
   "outputs": [],
   "source": [
    "def col_names_kepler(df_city):\n",
    "\n",
    "    new_cols = {col: col.capitalize().replace('_',' ') for col in df_city.columns}\n",
    "    df_city.rename(columns=new_cols, inplace=True)"
   ]
  },
  {
   "cell_type": "code",
   "execution_count": 23,
   "metadata": {},
   "outputs": [],
   "source": [
    "# Saves df to csv\n",
    "\n",
    "def save_csv(df_city, city):\n",
    "\n",
    "    df_city.to_csv(f'../raw/eda-result/airbnb_{city}.csv', index = False, sep = ',')"
   ]
  },
  {
   "cell_type": "code",
   "execution_count": 24,
   "metadata": {},
   "outputs": [],
   "source": [
    "def clean_save_geojson(city):\n",
    "\n",
    "    path_to_file = f'../raw/airbnb/{city}/neighbourhoods.geojson'\n",
    "    geo_json = read_geojson(path_to_file)\n",
    "\n",
    "    for i in range(0, len(geo_json['features'])):\n",
    "\n",
    "        geo_json['features'][i]['properties']['Neighbourhood'] = geo_json['features'][i]['properties']['neighbourhood']\n",
    "        del geo_json['features'][i]['properties']['neighbourhood']\n",
    "\n",
    "        geo_json['features'][i]['properties']['District'] = geo_json['features'][i]['properties']['neighbourhood_group']\n",
    "        del geo_json['features'][i]['properties']['neighbourhood_group']\n",
    "\n",
    "    write_geojson(geo_json, filename=f'../raw/eda-result/neighbourhood_{city}.geojson')"
   ]
  },
  {
   "cell_type": "code",
   "execution_count": 25,
   "metadata": {},
   "outputs": [],
   "source": [
    "cities = ['madrid', 'porto', 'lisbon']\n",
    "\n",
    "for city in cities:\n",
    "    \n",
    "    df_city = read_csv(city)\n",
    "    split_name_col(df_city)\n",
    "    df_city = drop_rename_timestamp(df_city)\n",
    "    df_city = new_col_order(df_city)\n",
    "    col_names_kepler(df_city)\n",
    "    save_csv(df_city, city)\n",
    "    clean_save_geojson(city)"
   ]
  }
 ],
 "metadata": {
  "kernelspec": {
   "display_name": "base",
   "language": "python",
   "name": "python3"
  },
  "language_info": {
   "codemirror_mode": {
    "name": "ipython",
    "version": 3
   },
   "file_extension": ".py",
   "mimetype": "text/x-python",
   "name": "python",
   "nbconvert_exporter": "python",
   "pygments_lexer": "ipython3",
   "version": "3.10.9"
  },
  "orig_nbformat": 4
 },
 "nbformat": 4,
 "nbformat_minor": 2
}
