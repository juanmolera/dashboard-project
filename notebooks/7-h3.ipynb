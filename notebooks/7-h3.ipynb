{
 "cells": [
  {
   "cell_type": "code",
   "execution_count": 19,
   "metadata": {},
   "outputs": [],
   "source": [
    "from keplergl import KeplerGl\n",
    "\n",
    "# Data manipulation\n",
    "import pandas as pd # data manipulation and dataframes\n",
    "\n",
    "import pickle\n",
    "\n",
    "import json"
   ]
  },
  {
   "cell_type": "code",
   "execution_count": 20,
   "metadata": {},
   "outputs": [],
   "source": [
    "with open('../data/config_madrid_airbnb.txt') as f:\n",
    "    config = f.readlines()"
   ]
  },
  {
   "cell_type": "code",
   "execution_count": 21,
   "metadata": {},
   "outputs": [
    {
     "data": {
      "text/plain": [
       "'{\"version\":\"v1\",\"config\":{\"visState\":{\"filters\":[],\"layers\":[{\"id\":\"8qsv8xu\",\"type\":\"heatmap\",\"config\":{\"dataId\":\"airbnb_lisbon\",\"label\":\"Airbnb\",\"color\":[255,203,153],\"highlightColor\":[252,242,26,255],\"columns\":{\"lat\":\"Latitude\",\"lng\":\"Longitude\"},\"isVisible\":true,\"visConfig\":{\"opacity\":1,\"colorRange\":{\"name\":\"Custom Palette\",\"type\":\"custom\",\"category\":\"Custom\",\"colors\":[\"#FFFF00\",\"#FFA500\",\"#FF0000\"]},\"radius\":3},\"hidden\":false,\"textLabel\":[{\"field\":null,\"color\":[255,255,255],\"size\":18,\"offset\":[0,0],\"anchor\":\"start\",\"alignment\":\"center\"}]},\"visualChannels\":{\"weightField\":null,\"weightScale\":\"linear\"}},{\"id\":\"6tkrqjw\",\"type\":\"geojson\",\"config\":{\"dataId\":\"neighbourhood_lisbon\",\"label\":\"Polygon\",\"color\":[231,159,213],\"highlightColor\":[252,242,26,255],\"columns\":{\"geojson\":\"_geojson\"},\"isVisible\":true,\"visConfig\":{\"opacity\":0.01,\"strokeOpacity\":0.8,\"thickness\":0.5,\"strokeColor\":[25,20,16],\"colorRange\":{\"name\":\"Custom Palette\",\"type\":\"custom\",\"category\":\"Custom\",\"colors\":[\"#12939A\",\"#DDB27C\",\"#88572C\",\"#FF991F\",\"#F15C17\",\"#223F9A\",\"#DA70BF\",\"#125C77\",\"#4DC19C\",\"#776E57\",\"#17B8BE\",\"#F6D18A\",\"#B7885E\",\"#FFCB99\",\"#F89570\",\"#829AE3\",\"#E79FD5\",\"#1E96BE\",\"#89DAC1\",\"#B3AD9E\",\"#d96d8c\"]},\"strokeColorRange\":{\"name\":\"Global Warming\",\"type\":\"sequential\",\"category\":\"Uber\",\"colors\":[\"#5A1846\",\"#900C3F\",\"#C70039\",\"#E3611C\",\"#F1920E\",\"#FFC300\"]},\"radius\":10,\"sizeRange\":[0,10],\"radiusRange\":[0,50],\"heightRange\":[0,500],\"elevationScale\":5,\"enableElevationZoomFactor\":true,\"stroked\":true,\"filled\":true,\"enable3d\":false,\"wireframe\":false},\"hidden\":false,\"textLabel\":[{\"field\":null,\"color\":[255,255,255],\"size\":18,\"offset\":[0,0],\"anchor\":\"start\",\"alignment\":\"center\"}]},\"visualChannels\":{\"colorField\":{\"name\":\"District\",\"type\":\"string\"},\"colorScale\":\"ordinal\",\"strokeColorField\":null,\"strokeColorScale\":\"quantile\",\"sizeField\":null,\"sizeScale\":\"linear\",\"heightField\":null,\"heightScale\":\"linear\",\"radiusField\":null,\"radiusScale\":\"linear\"}}],\"interactionConfig\":{\"tooltip\":{\"fieldsToShow\":{\"airbnb_lisbon\":[{\"name\":\"Description\",\"format\":null},{\"name\":\"Score\",\"format\":null},{\"name\":\"Facilities\",\"format\":null},{\"name\":\"District\",\"format\":null},{\"name\":\"Neighbourhood\",\"format\":null}],\"neighbourhood_lisbon\":[{\"name\":\"District\",\"format\":null},{\"name\":\"Neighbourhood\",\"format\":null}]},\"compareMode\":false,\"compareType\":\"absolute\",\"enabled\":true},\"brush\":{\"size\":0.5,\"enabled\":false},\"geocoder\":{\"enabled\":false},\"coordinate\":{\"enabled\":false}},\"layerBlending\":\"normal\",\"splitMaps\":[],\"animationConfig\":{\"currentTime\":null,\"speed\":1}},\"mapState\":{\"bearing\":0,\"dragRotate\":false,\"latitude\":40.428480529309816,\"longitude\":-3.725613459781294,\"pitch\":0,\"zoom\":10.998173961946886,\"isSplit\":false},\"mapStyle\":{\"styleType\":\"dark\",\"topLayerGroups\":{},\"visibleLayerGroups\":{\"label\":true,\"road\":true,\"border\":false,\"building\":true,\"water\":true,\"land\":true,\"3d building\":false},\"threeDBuildingColor\":[9.665468314072013,17.18305478057247,31.1442867897876],\"mapStyles\":{}}}}'"
      ]
     },
     "execution_count": 21,
     "metadata": {},
     "output_type": "execute_result"
    }
   ],
   "source": [
    "config[0]"
   ]
  },
  {
   "cell_type": "code",
   "execution_count": 22,
   "metadata": {},
   "outputs": [
    {
     "data": {
      "text/plain": [
       "{'version': 'v1',\n",
       " 'config': {'visState': {'filters': [],\n",
       "   'layers': [{'id': '8qsv8xu',\n",
       "     'type': 'heatmap',\n",
       "     'config': {'dataId': 'airbnb_lisbon',\n",
       "      'label': 'Airbnb',\n",
       "      'color': [255, 203, 153],\n",
       "      'highlightColor': [252, 242, 26, 255],\n",
       "      'columns': {'lat': 'Latitude', 'lng': 'Longitude'},\n",
       "      'isVisible': True,\n",
       "      'visConfig': {'opacity': 1,\n",
       "       'colorRange': {'name': 'Custom Palette',\n",
       "        'type': 'custom',\n",
       "        'category': 'Custom',\n",
       "        'colors': ['#FFFF00', '#FFA500', '#FF0000']},\n",
       "       'radius': 3},\n",
       "      'hidden': False,\n",
       "      'textLabel': [{'field': None,\n",
       "        'color': [255, 255, 255],\n",
       "        'size': 18,\n",
       "        'offset': [0, 0],\n",
       "        'anchor': 'start',\n",
       "        'alignment': 'center'}]},\n",
       "     'visualChannels': {'weightField': None, 'weightScale': 'linear'}},\n",
       "    {'id': '6tkrqjw',\n",
       "     'type': 'geojson',\n",
       "     'config': {'dataId': 'neighbourhood_lisbon',\n",
       "      'label': 'Polygon',\n",
       "      'color': [231, 159, 213],\n",
       "      'highlightColor': [252, 242, 26, 255],\n",
       "      'columns': {'geojson': '_geojson'},\n",
       "      'isVisible': True,\n",
       "      'visConfig': {'opacity': 0.01,\n",
       "       'strokeOpacity': 0.8,\n",
       "       'thickness': 0.5,\n",
       "       'strokeColor': [25, 20, 16],\n",
       "       'colorRange': {'name': 'Custom Palette',\n",
       "        'type': 'custom',\n",
       "        'category': 'Custom',\n",
       "        'colors': ['#12939A',\n",
       "         '#DDB27C',\n",
       "         '#88572C',\n",
       "         '#FF991F',\n",
       "         '#F15C17',\n",
       "         '#223F9A',\n",
       "         '#DA70BF',\n",
       "         '#125C77',\n",
       "         '#4DC19C',\n",
       "         '#776E57',\n",
       "         '#17B8BE',\n",
       "         '#F6D18A',\n",
       "         '#B7885E',\n",
       "         '#FFCB99',\n",
       "         '#F89570',\n",
       "         '#829AE3',\n",
       "         '#E79FD5',\n",
       "         '#1E96BE',\n",
       "         '#89DAC1',\n",
       "         '#B3AD9E',\n",
       "         '#d96d8c']},\n",
       "       'strokeColorRange': {'name': 'Global Warming',\n",
       "        'type': 'sequential',\n",
       "        'category': 'Uber',\n",
       "        'colors': ['#5A1846',\n",
       "         '#900C3F',\n",
       "         '#C70039',\n",
       "         '#E3611C',\n",
       "         '#F1920E',\n",
       "         '#FFC300']},\n",
       "       'radius': 10,\n",
       "       'sizeRange': [0, 10],\n",
       "       'radiusRange': [0, 50],\n",
       "       'heightRange': [0, 500],\n",
       "       'elevationScale': 5,\n",
       "       'enableElevationZoomFactor': True,\n",
       "       'stroked': True,\n",
       "       'filled': True,\n",
       "       'enable3d': False,\n",
       "       'wireframe': False},\n",
       "      'hidden': False,\n",
       "      'textLabel': [{'field': None,\n",
       "        'color': [255, 255, 255],\n",
       "        'size': 18,\n",
       "        'offset': [0, 0],\n",
       "        'anchor': 'start',\n",
       "        'alignment': 'center'}]},\n",
       "     'visualChannels': {'colorField': {'name': 'District', 'type': 'string'},\n",
       "      'colorScale': 'ordinal',\n",
       "      'strokeColorField': None,\n",
       "      'strokeColorScale': 'quantile',\n",
       "      'sizeField': None,\n",
       "      'sizeScale': 'linear',\n",
       "      'heightField': None,\n",
       "      'heightScale': 'linear',\n",
       "      'radiusField': None,\n",
       "      'radiusScale': 'linear'}}],\n",
       "   'interactionConfig': {'tooltip': {'fieldsToShow': {'airbnb_lisbon': [{'name': 'Description',\n",
       "        'format': None},\n",
       "       {'name': 'Score', 'format': None},\n",
       "       {'name': 'Facilities', 'format': None},\n",
       "       {'name': 'District', 'format': None},\n",
       "       {'name': 'Neighbourhood', 'format': None}],\n",
       "      'neighbourhood_lisbon': [{'name': 'District', 'format': None},\n",
       "       {'name': 'Neighbourhood', 'format': None}]},\n",
       "     'compareMode': False,\n",
       "     'compareType': 'absolute',\n",
       "     'enabled': True},\n",
       "    'brush': {'size': 0.5, 'enabled': False},\n",
       "    'geocoder': {'enabled': False},\n",
       "    'coordinate': {'enabled': False}},\n",
       "   'layerBlending': 'normal',\n",
       "   'splitMaps': [],\n",
       "   'animationConfig': {'currentTime': None, 'speed': 1}},\n",
       "  'mapState': {'bearing': 0,\n",
       "   'dragRotate': False,\n",
       "   'latitude': 40.428480529309816,\n",
       "   'longitude': -3.725613459781294,\n",
       "   'pitch': 0,\n",
       "   'zoom': 10.998173961946886,\n",
       "   'isSplit': False},\n",
       "  'mapStyle': {'styleType': 'dark',\n",
       "   'topLayerGroups': {},\n",
       "   'visibleLayerGroups': {'label': True,\n",
       "    'road': True,\n",
       "    'border': False,\n",
       "    'building': True,\n",
       "    'water': True,\n",
       "    'land': True,\n",
       "    '3d building': False},\n",
       "   'threeDBuildingColor': [9.665468314072013,\n",
       "    17.18305478057247,\n",
       "    31.1442867897876],\n",
       "   'mapStyles': {}}}}"
      ]
     },
     "execution_count": 22,
     "metadata": {},
     "output_type": "execute_result"
    }
   ],
   "source": [
    "res = json.loads(config[0])\n",
    "res"
   ]
  },
  {
   "cell_type": "code",
   "execution_count": 23,
   "metadata": {},
   "outputs": [],
   "source": [
    "with open('config_lisbon_airbnb.pickle', 'wb') as f:\n",
    "    pickle.dump(res, f)"
   ]
  },
  {
   "cell_type": "code",
   "execution_count": null,
   "metadata": {},
   "outputs": [],
   "source": []
  },
  {
   "cell_type": "code",
   "execution_count": null,
   "metadata": {},
   "outputs": [],
   "source": []
  },
  {
   "cell_type": "code",
   "execution_count": null,
   "metadata": {},
   "outputs": [],
   "source": []
  },
  {
   "cell_type": "code",
   "execution_count": null,
   "metadata": {},
   "outputs": [],
   "source": []
  },
  {
   "cell_type": "code",
   "execution_count": null,
   "metadata": {},
   "outputs": [],
   "source": []
  },
  {
   "cell_type": "code",
   "execution_count": null,
   "metadata": {},
   "outputs": [],
   "source": []
  }
 ],
 "metadata": {
  "kernelspec": {
   "display_name": "base",
   "language": "python",
   "name": "python3"
  },
  "language_info": {
   "codemirror_mode": {
    "name": "ipython",
    "version": 3
   },
   "file_extension": ".py",
   "mimetype": "text/x-python",
   "name": "python",
   "nbconvert_exporter": "python",
   "pygments_lexer": "ipython3",
   "version": "3.10.9"
  },
  "orig_nbformat": 4
 },
 "nbformat": 4,
 "nbformat_minor": 2
}
