{
 "cells": [
  {
   "cell_type": "code",
   "execution_count": null,
   "metadata": {},
   "outputs": [],
   "source": [
    "# Data manipulation\n",
    "import pandas as pd # data manipulation and dataframes\n",
    "\n",
    "# Data visualization\n",
    "import plotly.express as px"
   ]
  },
  {
   "cell_type": "code",
   "execution_count": null,
   "metadata": {},
   "outputs": [],
   "source": [
    "# Pandas configuration\n",
    "pd.set_option('display.max_columns', None)  # shows all columns\n",
    "pd.set_option('display.max_colwidth', None)  # shows all cell content"
   ]
  },
  {
   "cell_type": "code",
   "execution_count": null,
   "metadata": {},
   "outputs": [],
   "source": [
    "# Reads csvs\n",
    "madrid_df = pd.read_csv('../data/kepler/airbnb_madrid.csv', index_col = 0)\n",
    "barrios = pd.read_csv('../data/airbnb/madrid/barrios_madrid.csv', delimiter=';',  index_col = 0)\n",
    "\n",
    "# Index\n",
    "madrid_df.reset_index(drop = False, inplace = True)\n",
    "barrios.reset_index(drop = False, inplace = True)"
   ]
  },
  {
   "cell_type": "code",
   "execution_count": null,
   "metadata": {},
   "outputs": [],
   "source": [
    "unique_district = madrid_df['District'].unique()\n",
    "unique_neighbourhood = madrid_df['Neighbourhood'].unique()"
   ]
  },
  {
   "cell_type": "code",
   "execution_count": null,
   "metadata": {},
   "outputs": [],
   "source": [
    "airbnbs_per_district_madrid = {'district': [], 'count': []}\n",
    "\n",
    "for u in unique_district:\n",
    "\n",
    "    airbnbs_per_district_madrid['district'].append(u)\n",
    "    airbnbs_per_district_madrid['count'].append(madrid_df[madrid_df['District'] == u].value_counts().sum())\n",
    "\n",
    "viz1 = pd.DataFrame.from_dict(airbnbs_per_district_madrid)"
   ]
  },
  {
   "cell_type": "code",
   "execution_count": null,
   "metadata": {},
   "outputs": [],
   "source": [
    "'''plt.figure(figsize = (20,8))\n",
    "\n",
    "fig1 = sns.barplot(x = viz1['district'], y = viz1['count'], order = viz1.sort_values('count', ascending = False).district)\n",
    "\n",
    "plt.title('Airbnbs per district in Madrid', fontweight = \"bold\")\n",
    "plt.xlabel('District', fontweight = \"bold\")\n",
    "plt.ylabel('Count', fontweight = \"bold\")\n",
    "plt.xticks(rotation = 90);\n",
    "\n",
    "ejex = viz1[\"count\"].tolist()\n",
    "ejey = viz1[\"count\"].tolist()\n",
    "\n",
    "fig1.bar_label(fig1.containers[0], fontweight = \"bold\");'''"
   ]
  },
  {
   "cell_type": "code",
   "execution_count": null,
   "metadata": {},
   "outputs": [],
   "source": [
    "fig = px.histogram(madrid_df, x = madrid_df['District']).update_xaxes(categoryorder = 'total descending')\n",
    "\n",
    "fig.show()"
   ]
  },
  {
   "cell_type": "code",
   "execution_count": null,
   "metadata": {},
   "outputs": [],
   "source": []
  },
  {
   "cell_type": "code",
   "execution_count": null,
   "metadata": {},
   "outputs": [],
   "source": []
  },
  {
   "cell_type": "code",
   "execution_count": null,
   "metadata": {},
   "outputs": [],
   "source": []
  },
  {
   "cell_type": "code",
   "execution_count": null,
   "metadata": {},
   "outputs": [],
   "source": []
  },
  {
   "cell_type": "code",
   "execution_count": null,
   "metadata": {},
   "outputs": [],
   "source": []
  }
 ],
 "metadata": {
  "kernelspec": {
   "display_name": "base",
   "language": "python",
   "name": "python3"
  },
  "language_info": {
   "codemirror_mode": {
    "name": "ipython",
    "version": 3
   },
   "file_extension": ".py",
   "mimetype": "text/x-python",
   "name": "python",
   "nbconvert_exporter": "python",
   "pygments_lexer": "ipython3",
   "version": "3.10.9"
  },
  "orig_nbformat": 4
 },
 "nbformat": 4,
 "nbformat_minor": 2
}
