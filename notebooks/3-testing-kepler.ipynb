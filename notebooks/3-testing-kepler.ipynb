{
 "cells": [
  {
   "cell_type": "code",
   "execution_count": null,
   "metadata": {},
   "outputs": [],
   "source": [
    "from keplergl import KeplerGl\n",
    "\n",
    "# Data manipulation\n",
    "import pandas as pd # data manipulation and dataframes\n",
    "\n",
    "import pickle\n",
    "\n",
    "import json"
   ]
  },
  {
   "cell_type": "code",
   "execution_count": null,
   "metadata": {},
   "outputs": [],
   "source": [
    "# Reads csvs\n",
    "df_madrid = pd.read_csv('../data/airbnb_madrid.csv', index_col = 0)\n",
    "df_madrid.reset_index(drop = False, inplace = True)\n",
    "\n",
    "df_porto = pd.read_csv('../data/airbnb_porto.csv', index_col = 0)\n",
    "df_porto.reset_index(drop = False, inplace = True)\n",
    "\n",
    "df_lisbon = pd.read_csv('../data/airbnb_lisbon.csv', index_col = 0)\n",
    "df_lisbon.reset_index(drop = False, inplace = True)"
   ]
  },
  {
   "cell_type": "code",
   "execution_count": null,
   "metadata": {},
   "outputs": [],
   "source": [
    "# GeoJSON as string\n",
    "with open('../data/neighbourhood_madrid.geojson', 'r') as f:\n",
    "    \n",
    "    geojson1 = f.read()\n",
    "\n",
    "# GeoJSON as string\n",
    "with open('../data/neighbourhood_porto.geojson', 'r') as f:\n",
    "    \n",
    "    geojson2 = f.read()\n",
    "\n",
    "# GeoJSON as string\n",
    "with open('../data/neighbourhood_lisbon.geojson', 'r') as f:\n",
    "    \n",
    "    geojson3 = f.read()"
   ]
  },
  {
   "cell_type": "code",
   "execution_count": null,
   "metadata": {},
   "outputs": [],
   "source": [
    "map_4 = KeplerGl(show_docs=False)\n",
    "map_4.add_data(data=df_madrid, name='airbnb_madrid')\n",
    "map_4.add_data(data=geojson1, name='neighbourhood_madrid')\n",
    "map_4"
   ]
  },
  {
   "cell_type": "code",
   "execution_count": null,
   "metadata": {},
   "outputs": [],
   "source": [
    "with open('config_madrid_rent.pickle', 'wb') as f:\n",
    "    pickle.dump(map_4.config, f)"
   ]
  },
  {
   "cell_type": "code",
   "execution_count": null,
   "metadata": {},
   "outputs": [],
   "source": [
    "with open('config_mad_districts.pickle', 'rb') as configuration:\n",
    "    config1 = pickle.load(configuration)\n",
    "\n",
    "map_5 = KeplerGl(height=400, data={\"airbnb_madrid\": df_madrid[df_madrid['District'] == 'Salamanca']}, config=config1, show_docs=False);\n",
    "map_5.add_data(data=geojson1, name='neighbourhood_madrid');\n",
    "map_5\n"
   ]
  },
  {
   "cell_type": "code",
   "execution_count": null,
   "metadata": {},
   "outputs": [],
   "source": [
    "map_7 = KeplerGl(show_docs=False)\n",
    "map_7.add_data(data=df_porto, name='airbnb_porto')\n",
    "map_7.add_data(data=geojson2, name='neighbourhood_porto')\n",
    "map_7"
   ]
  },
  {
   "cell_type": "code",
   "execution_count": null,
   "metadata": {},
   "outputs": [],
   "source": [
    "with open('config_porto_districts.pickle', 'wb') as f:\n",
    "    pickle.dump(map_7.config, f)"
   ]
  },
  {
   "cell_type": "code",
   "execution_count": null,
   "metadata": {},
   "outputs": [],
   "source": [
    "map_8 = KeplerGl(show_docs=False)\n",
    "map_8.add_data(data=df_lisbon, name='airbnb_lisbon')\n",
    "map_8.add_data(data=geojson3, name='neighbourhood_lisbon')\n",
    "map_8"
   ]
  },
  {
   "cell_type": "code",
   "execution_count": null,
   "metadata": {},
   "outputs": [],
   "source": [
    "with open('config_lisbon_districts.pickle', 'wb') as f:\n",
    "    pickle.dump(map_8.config, f)"
   ]
  }
 ],
 "metadata": {
  "kernelspec": {
   "display_name": "base",
   "language": "python",
   "name": "python3"
  },
  "language_info": {
   "codemirror_mode": {
    "name": "ipython",
    "version": 3
   },
   "file_extension": ".py",
   "mimetype": "text/x-python",
   "name": "python",
   "nbconvert_exporter": "python",
   "pygments_lexer": "ipython3",
   "version": "3.10.9"
  },
  "orig_nbformat": 4
 },
 "nbformat": 4,
 "nbformat_minor": 2
}
