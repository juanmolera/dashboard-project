{
 "cells": [
  {
   "cell_type": "code",
   "execution_count": 44,
   "metadata": {},
   "outputs": [],
   "source": [
    "from keplergl import KeplerGl\n",
    "\n",
    "# Data manipulation\n",
    "import pandas as pd # data manipulation and dataframes"
   ]
  },
  {
   "cell_type": "code",
   "execution_count": 45,
   "metadata": {},
   "outputs": [],
   "source": [
    "# Reads csvs\n",
    "df_madrid = pd.read_csv('../data/kepler/airbnb_madrid.csv', index_col = 0)\n",
    "df_madrid.reset_index(drop = False, inplace = True)"
   ]
  },
  {
   "cell_type": "code",
   "execution_count": 46,
   "metadata": {},
   "outputs": [],
   "source": [
    "# Load an empty map\n",
    "map_1 = KeplerGl(show_docs=False)"
   ]
  },
  {
   "cell_type": "code",
   "execution_count": 47,
   "metadata": {},
   "outputs": [
    {
     "name": "stderr",
     "output_type": "stream",
     "text": [
      "/Users/jmpas/anaconda3/lib/python3.10/site-packages/jupyter_client/session.py:718: UserWarning: Message serialization failed with:\n",
      "Out of range float values are not JSON compliant\n",
      "Supporting this message is deprecated in jupyter-client 7, please make sure your message is JSON-compliant\n",
      "  content = self.pack(content)\n"
     ]
    }
   ],
   "source": [
    "# Load a map with data and config and height\n",
    "config = {}\n",
    "map_2 = KeplerGl(height=400, data={\"airbnb_madrid\": df_madrid}, config=config, show_docs=False);"
   ]
  },
  {
   "cell_type": "code",
   "execution_count": 55,
   "metadata": {},
   "outputs": [],
   "source": [
    "# GeoJSON as string\n",
    "with open('../data/kepler/neighbourhood_madrid.geojson', 'r') as f:\n",
    "\n",
    "    geojson = f.read()\n",
    "\n",
    "#map_1.add_data(data=geojson, name='madrid_neighbourhoods')"
   ]
  },
  {
   "cell_type": "code",
   "execution_count": 49,
   "metadata": {},
   "outputs": [],
   "source": [
    "map_1.data;"
   ]
  },
  {
   "cell_type": "code",
   "execution_count": 50,
   "metadata": {},
   "outputs": [],
   "source": [
    "map_1.config;"
   ]
  },
  {
   "cell_type": "code",
   "execution_count": 51,
   "metadata": {},
   "outputs": [],
   "source": [
    "'''# Save map_1 config to a file\n",
    "with open('hex_config.py', 'w') as f:\n",
    "   f.write('config = {}'.format(map_1.config))'''\n",
    "\n",
    "# load the config\n",
    "#%run hex_config.py"
   ]
  },
  {
   "cell_type": "code",
   "execution_count": 52,
   "metadata": {},
   "outputs": [],
   "source": [
    "# load the config\n",
    "#%run config_madrid.py\n",
    "\n",
    "#map_3 = KeplerGl(height=400, data={\"airbnb_madrid\": df_madrid}, config=config_madrid.py, show_docs=False)"
   ]
  },
  {
   "cell_type": "code",
   "execution_count": 56,
   "metadata": {},
   "outputs": [
    {
     "name": "stderr",
     "output_type": "stream",
     "text": [
      "/Users/jmpas/anaconda3/lib/python3.10/site-packages/jupyter_client/session.py:718: UserWarning: Message serialization failed with:\n",
      "Out of range float values are not JSON compliant\n",
      "Supporting this message is deprecated in jupyter-client 7, please make sure your message is JSON-compliant\n",
      "  content = self.pack(content)\n"
     ]
    },
    {
     "data": {
      "application/vnd.jupyter.widget-view+json": {
       "model_id": "0b89d2628a2e486c8c3b72b5ebb31061",
       "version_major": 2,
       "version_minor": 0
      },
      "text/plain": [
       "KeplerGl(data={'airbnb_madrid': {'index': [0, 1, 2, 3, 4, 5, 6, 7, 8, 9, 10, 11, 12, 13, 14, 15, 16, 17, 18, 1…"
      ]
     },
     "metadata": {},
     "output_type": "display_data"
    }
   ],
   "source": [
    "map_4 = KeplerGl(show_docs=False)\n",
    "map_4.add_data(data=df_madrid, name='airbnb_madrid')\n",
    "map_4.add_data(data=geojson, name='neighbourhood_madrid')\n",
    "map_4"
   ]
  },
  {
   "cell_type": "code",
   "execution_count": 58,
   "metadata": {},
   "outputs": [],
   "source": [
    "with open('config_mad_districts.py', 'w') as f:\n",
    "   f.write('config = {}'.format(map_4.config))"
   ]
  },
  {
   "cell_type": "code",
   "execution_count": null,
   "metadata": {},
   "outputs": [],
   "source": []
  },
  {
   "cell_type": "code",
   "execution_count": null,
   "metadata": {},
   "outputs": [],
   "source": []
  },
  {
   "cell_type": "code",
   "execution_count": null,
   "metadata": {},
   "outputs": [],
   "source": []
  },
  {
   "cell_type": "code",
   "execution_count": null,
   "metadata": {},
   "outputs": [],
   "source": []
  },
  {
   "cell_type": "code",
   "execution_count": null,
   "metadata": {},
   "outputs": [],
   "source": []
  }
 ],
 "metadata": {
  "kernelspec": {
   "display_name": "base",
   "language": "python",
   "name": "python3"
  },
  "language_info": {
   "codemirror_mode": {
    "name": "ipython",
    "version": 3
   },
   "file_extension": ".py",
   "mimetype": "text/x-python",
   "name": "python",
   "nbconvert_exporter": "python",
   "pygments_lexer": "ipython3",
   "version": "3.10.9"
  },
  "orig_nbformat": 4
 },
 "nbformat": 4,
 "nbformat_minor": 2
}
