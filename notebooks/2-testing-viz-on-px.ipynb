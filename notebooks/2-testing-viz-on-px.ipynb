{
 "cells": [
  {
   "cell_type": "code",
   "execution_count": null,
   "metadata": {},
   "outputs": [],
   "source": [
    "# Data manipulation\n",
    "import pandas as pd # data manipulation and dataframes\n",
    "\n",
    "# Data visualization\n",
    "import plotly.express as px"
   ]
  },
  {
   "cell_type": "code",
   "execution_count": null,
   "metadata": {},
   "outputs": [],
   "source": [
    "# Pandas configuration\n",
    "pd.set_option('display.max_columns', None)  # shows all columns\n",
    "pd.set_option('display.max_colwidth', None)  # shows all cell content"
   ]
  },
  {
   "cell_type": "code",
   "execution_count": null,
   "metadata": {},
   "outputs": [],
   "source": [
    "# Reads csvs\n",
    "df = pd.read_csv('../data/airbnb_madrid.csv', index_col = 0)\n",
    "\n",
    "# Index\n",
    "df.reset_index(drop = False, inplace = True)\n",
    "\n",
    "# Color palette\n",
    "blues = pd.read_csv('../data/blues.csv')"
   ]
  },
  {
   "cell_type": "code",
   "execution_count": null,
   "metadata": {},
   "outputs": [],
   "source": [
    "unique_district = df['District'].unique()\n",
    "unique_neighbourhood = df['Neighbourhood'].unique()"
   ]
  },
  {
   "cell_type": "code",
   "execution_count": null,
   "metadata": {},
   "outputs": [],
   "source": [
    "airbnbs_per_district_madrid = {'district': [], 'total': []}\n",
    "\n",
    "for u in unique_district:\n",
    "\n",
    "    airbnbs_per_district_madrid['district'].append(u)\n",
    "    airbnbs_per_district_madrid['total'].append(df[df['District'] == u].value_counts().sum())\n",
    "\n",
    "viz1 = pd.DataFrame.from_dict(airbnbs_per_district_madrid)"
   ]
  },
  {
   "cell_type": "code",
   "execution_count": null,
   "metadata": {},
   "outputs": [],
   "source": [
    "viz1 = viz1.sort_values(by=['total'], ascending=False)\n",
    "viz1"
   ]
  },
  {
   "cell_type": "code",
   "execution_count": null,
   "metadata": {},
   "outputs": [],
   "source": [
    "fig = px.histogram(df, x=viz1['district'], \n",
    "                   y=viz1['total'], \n",
    "                   color=viz1['district'], \n",
    "                   color_discrete_sequence=blues['Code'].tolist())\n",
    "\n",
    "fig.update_xaxes(categoryorder = 'total descending')\n",
    "fig.update_layout(xaxis_showticklabels=False)\n",
    "\n",
    "fig.show()"
   ]
  },
  {
   "cell_type": "code",
   "execution_count": null,
   "metadata": {},
   "outputs": [],
   "source": [
    "airbnbs_per_district_madrid"
   ]
  },
  {
   "cell_type": "code",
   "execution_count": null,
   "metadata": {},
   "outputs": [],
   "source": []
  },
  {
   "cell_type": "code",
   "execution_count": null,
   "metadata": {},
   "outputs": [],
   "source": []
  },
  {
   "cell_type": "code",
   "execution_count": null,
   "metadata": {},
   "outputs": [],
   "source": []
  },
  {
   "cell_type": "code",
   "execution_count": null,
   "metadata": {},
   "outputs": [],
   "source": []
  }
 ],
 "metadata": {
  "kernelspec": {
   "display_name": "base",
   "language": "python",
   "name": "python3"
  },
  "language_info": {
   "codemirror_mode": {
    "name": "ipython",
    "version": 3
   },
   "file_extension": ".py",
   "mimetype": "text/x-python",
   "name": "python",
   "nbconvert_exporter": "python",
   "pygments_lexer": "ipython3",
   "version": "3.10.9"
  },
  "orig_nbformat": 4
 },
 "nbformat": 4,
 "nbformat_minor": 2
}
