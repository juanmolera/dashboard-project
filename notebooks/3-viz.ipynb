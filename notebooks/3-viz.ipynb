{
 "cells": [
  {
   "cell_type": "code",
   "execution_count": 68,
   "metadata": {},
   "outputs": [],
   "source": [
    "# Data manipulation\n",
    "import pandas as pd # data manipulation and dataframes\n",
    "\n",
    "# Data visualization\n",
    "import matplotlib.pyplot as plt\n",
    "import seaborn as sns"
   ]
  },
  {
   "cell_type": "code",
   "execution_count": 69,
   "metadata": {},
   "outputs": [],
   "source": [
    "# Pandas configuration\n",
    "pd.set_option('display.max_columns', None)  # shows all columns\n",
    "pd.set_option('display.max_colwidth', None)  # shows all cell content"
   ]
  },
  {
   "cell_type": "code",
   "execution_count": 70,
   "metadata": {},
   "outputs": [],
   "source": [
    "# Reads csvs\n",
    "madrid_df = pd.read_csv('../data/kepler/airbnb_madrid.csv', index_col = 0)\n",
    "barrios = pd.read_csv('../data/airbnb/madrid/barrios_madrid.csv', delimiter=';',  index_col = 0)\n",
    "\n",
    "# Index\n",
    "madrid_df.reset_index(drop = False, inplace = True)\n",
    "barrios.reset_index(drop = False, inplace = True)"
   ]
  },
  {
   "cell_type": "code",
   "execution_count": 71,
   "metadata": {},
   "outputs": [
    {
     "data": {
      "text/html": [
       "<div>\n",
       "<style scoped>\n",
       "    .dataframe tbody tr th:only-of-type {\n",
       "        vertical-align: middle;\n",
       "    }\n",
       "\n",
       "    .dataframe tbody tr th {\n",
       "        vertical-align: top;\n",
       "    }\n",
       "\n",
       "    .dataframe thead th {\n",
       "        text-align: right;\n",
       "    }\n",
       "</style>\n",
       "<table border=\"1\" class=\"dataframe\">\n",
       "  <thead>\n",
       "    <tr style=\"text-align: right;\">\n",
       "      <th></th>\n",
       "      <th>Description</th>\n",
       "      <th>Score</th>\n",
       "      <th>Facilities</th>\n",
       "      <th>District</th>\n",
       "      <th>Neighbourhood</th>\n",
       "      <th>Room type</th>\n",
       "      <th>Price</th>\n",
       "      <th>Minimum nights</th>\n",
       "      <th>Host name</th>\n",
       "      <th>Number of reviews</th>\n",
       "      <th>Last review</th>\n",
       "      <th>Latitude</th>\n",
       "      <th>Longitude</th>\n",
       "    </tr>\n",
       "  </thead>\n",
       "  <tbody>\n",
       "    <tr>\n",
       "      <th>0</th>\n",
       "      <td>Rental unit in madrid</td>\n",
       "      <td>★4.87</td>\n",
       "      <td>1 bedroom, 1 bed, 1 private bath</td>\n",
       "      <td>Chamartín</td>\n",
       "      <td>Hispanoamérica</td>\n",
       "      <td>Private room</td>\n",
       "      <td>90</td>\n",
       "      <td>4</td>\n",
       "      <td>Simon</td>\n",
       "      <td>104</td>\n",
       "      <td>2023-05-31</td>\n",
       "      <td>40.457240</td>\n",
       "      <td>-3.676880</td>\n",
       "    </tr>\n",
       "    <tr>\n",
       "      <th>1</th>\n",
       "      <td>Rental unit in madrid</td>\n",
       "      <td>★4.58</td>\n",
       "      <td>1 bedroom, 1 bed, 1 bath</td>\n",
       "      <td>Latina</td>\n",
       "      <td>Cármenes</td>\n",
       "      <td>Private room</td>\n",
       "      <td>31</td>\n",
       "      <td>4</td>\n",
       "      <td>Abdel</td>\n",
       "      <td>33</td>\n",
       "      <td>2018-07-15</td>\n",
       "      <td>40.403810</td>\n",
       "      <td>-3.741300</td>\n",
       "    </tr>\n",
       "    <tr>\n",
       "      <th>2</th>\n",
       "      <td>Casa particular in madrid</td>\n",
       "      <td>★4.71</td>\n",
       "      <td>1 bedroom, 1 bed, 1.5 baths</td>\n",
       "      <td>Chamberí</td>\n",
       "      <td>Almagro</td>\n",
       "      <td>Private room</td>\n",
       "      <td>47</td>\n",
       "      <td>3</td>\n",
       "      <td>Alejandro</td>\n",
       "      <td>33</td>\n",
       "      <td>2023-06-05</td>\n",
       "      <td>40.434551</td>\n",
       "      <td>-3.698387</td>\n",
       "    </tr>\n",
       "    <tr>\n",
       "      <th>3</th>\n",
       "      <td>Rental unit in madrid</td>\n",
       "      <td>★4.90</td>\n",
       "      <td>6 bedrooms, 1 bed, 1 bath</td>\n",
       "      <td>Centro</td>\n",
       "      <td>Universidad</td>\n",
       "      <td>Entire home/apt</td>\n",
       "      <td>92</td>\n",
       "      <td>5</td>\n",
       "      <td>Alvaro</td>\n",
       "      <td>29</td>\n",
       "      <td>2023-05-23</td>\n",
       "      <td>40.421830</td>\n",
       "      <td>-3.705290</td>\n",
       "    </tr>\n",
       "    <tr>\n",
       "      <th>4</th>\n",
       "      <td>Guest suite in madrid</td>\n",
       "      <td>★5.0</td>\n",
       "      <td>1 bedroom, 1 bed, 1 shared bath</td>\n",
       "      <td>Carabanchel</td>\n",
       "      <td>Comillas</td>\n",
       "      <td>Private room</td>\n",
       "      <td>30</td>\n",
       "      <td>2</td>\n",
       "      <td>Agata</td>\n",
       "      <td>10</td>\n",
       "      <td>2023-05-21</td>\n",
       "      <td>40.390320</td>\n",
       "      <td>-3.713820</td>\n",
       "    </tr>\n",
       "  </tbody>\n",
       "</table>\n",
       "</div>"
      ],
      "text/plain": [
       "                 Description  Score                        Facilities  \\\n",
       "0      Rental unit in madrid  ★4.87  1 bedroom, 1 bed, 1 private bath   \n",
       "1      Rental unit in madrid  ★4.58          1 bedroom, 1 bed, 1 bath   \n",
       "2  Casa particular in madrid  ★4.71       1 bedroom, 1 bed, 1.5 baths   \n",
       "3      Rental unit in madrid  ★4.90         6 bedrooms, 1 bed, 1 bath   \n",
       "4      Guest suite in madrid   ★5.0   1 bedroom, 1 bed, 1 shared bath   \n",
       "\n",
       "      District   Neighbourhood        Room type  Price  Minimum nights  \\\n",
       "0    Chamartín  Hispanoamérica     Private room     90               4   \n",
       "1       Latina        Cármenes     Private room     31               4   \n",
       "2     Chamberí         Almagro     Private room     47               3   \n",
       "3       Centro     Universidad  Entire home/apt     92               5   \n",
       "4  Carabanchel        Comillas     Private room     30               2   \n",
       "\n",
       "   Host name  Number of reviews Last review   Latitude  Longitude  \n",
       "0      Simon                104  2023-05-31  40.457240  -3.676880  \n",
       "1      Abdel                 33  2018-07-15  40.403810  -3.741300  \n",
       "2  Alejandro                 33  2023-06-05  40.434551  -3.698387  \n",
       "3     Alvaro                 29  2023-05-23  40.421830  -3.705290  \n",
       "4      Agata                 10  2023-05-21  40.390320  -3.713820  "
      ]
     },
     "execution_count": 71,
     "metadata": {},
     "output_type": "execute_result"
    }
   ],
   "source": [
    "madrid_df.head()\n"
   ]
  },
  {
   "cell_type": "code",
   "execution_count": 85,
   "metadata": {},
   "outputs": [
    {
     "data": {
      "text/plain": [
       "21"
      ]
     },
     "execution_count": 85,
     "metadata": {},
     "output_type": "execute_result"
    }
   ],
   "source": [
    "unique_district = madrid_df['District'].unique()\n",
    "len(unique_district)"
   ]
  },
  {
   "cell_type": "code",
   "execution_count": 73,
   "metadata": {},
   "outputs": [
    {
     "name": "stdout",
     "output_type": "stream",
     "text": [
      "Chamartín 484\n",
      "Latina 508\n",
      "Chamberí 1034\n",
      "Centro 8696\n",
      "Carabanchel 640\n",
      "Arganzuela 993\n",
      "Moncloa - Aravaca 487\n",
      "Fuencarral - El Pardo 234\n",
      "Salamanca 1191\n",
      "San Blas - Canillejas 318\n",
      "Retiro 674\n",
      "Ciudad Lineal 591\n",
      "Villaverde 154\n",
      "Hortaleza 391\n",
      "Tetuán 863\n",
      "Barajas 126\n",
      "Usera 371\n",
      "Puente de Vallecas 516\n",
      "Villa de Vallecas 81\n",
      "Moratalaz 108\n",
      "Vicálvaro 45\n"
     ]
    }
   ],
   "source": [
    "for u in unique_district:\n",
    "\n",
    "    print(u, madrid_df[madrid_df['District'] == u].value_counts().sum())"
   ]
  },
  {
   "cell_type": "code",
   "execution_count": 74,
   "metadata": {},
   "outputs": [
    {
     "data": {
      "text/plain": [
       "array(['Hispanoamérica', 'Cármenes', 'Almagro', 'Universidad', 'Comillas',\n",
       "       'Legazpi', 'Sol', 'Argüelles', 'La Paz', 'Palacio', 'Embajadores',\n",
       "       'Justicia', 'Goya', 'Rosas', 'Trafalgar', 'Recoletos', 'Jerónimos',\n",
       "       'Cortes', 'Concepción', 'Valverde', 'Puerta del Angel', 'Arcos',\n",
       "       'Pueblo Nuevo', 'Rios Rosas', 'Pacífico', 'Los Angeles', 'Piovera',\n",
       "       'Delicias', 'Ibiza', 'Castellana', 'Canillas', 'Cuatro Caminos',\n",
       "       'Arapiles', 'Casco Histórico de Barajas', 'Opañel', 'San Fermín',\n",
       "       'Chopera', 'Palos de Moguer', 'Valdefuentes', 'Berruguete',\n",
       "       'Lucero', 'San Diego', 'Prosperidad', 'Acacias', 'Castilla',\n",
       "       'Casco Histórico de Vallecas', 'Lista', 'Puerta Bonita',\n",
       "       'Almenara', 'Fuente del Berro', 'Pinar del Rey', 'Niño Jesús',\n",
       "       'Costillares', 'El Viso', 'Alameda de Osuna', 'Castillejos',\n",
       "       'Rejas', 'Ciudad Universitaria', 'Simancas', 'Timón', 'Salvador',\n",
       "       'Numancia', 'Marroquina', 'Gaztambide', 'San Andrés',\n",
       "       'Los Rosales', 'Palomeras Sureste', 'San Juan Bautista',\n",
       "       'Casco Histórico de Vicálvaro', 'Atocha', 'Nueva España', 'Ventas',\n",
       "       'Aluche', 'Moscardó', 'San Isidro', 'Fontarrón', 'Guindalera',\n",
       "       'Imperial', 'Valdezarza', 'Vista Alegre', 'Bellas Vistas',\n",
       "       'Casa de Campo', 'Butarque', 'Mirasierra', 'Canillejas',\n",
       "       'Quintana', 'Ciudad Jardín', 'Aravaca', 'Abrantes', 'San Pascual',\n",
       "       'Valdemarín', 'Peñagrande', 'Adelfas', 'Colina', 'Vallehermoso',\n",
       "       'Valdeacederas', 'Apostol Santiago', 'Zofío', 'Almendrales',\n",
       "       'Palomas', 'Palomeras Bajas', 'Campamento', 'Vinateros', 'Pilar',\n",
       "       'Aguilas', 'Estrella', 'Orcasur', 'Aeropuerto', 'Buenavista',\n",
       "       'San Cristobal', 'El Goloso', 'Portazgo', 'Santa Eugenia',\n",
       "       'Hellín', 'Orcasitas', 'Amposta', 'Cuatro Vientos', 'Ambroz',\n",
       "       'Entrevías', 'El Pardo', 'Pradolongo', 'Media Legua', 'Pavones',\n",
       "       'Corralejos', 'El Plantío', 'Horcajo'], dtype=object)"
      ]
     },
     "execution_count": 74,
     "metadata": {},
     "output_type": "execute_result"
    }
   ],
   "source": [
    "unique_neighbourhood = madrid_df['Neighbourhood'].unique()\n",
    "unique_neighbourhood"
   ]
  },
  {
   "cell_type": "code",
   "execution_count": 75,
   "metadata": {},
   "outputs": [],
   "source": [
    "barrios.drop(['OID_', 'OBJECTID', 'CODDIS', 'COD_BAR', 'Shape_Leng', 'COD_DIS_TX', 'BARRIO_MAY', 'COD_DISBAR', 'NUM_BAR', 'BARRIO_MT', 'COD_DISB', 'Shape_STAr', 'Shape_STLe'], axis=1, inplace=True)"
   ]
  },
  {
   "cell_type": "code",
   "execution_count": 80,
   "metadata": {},
   "outputs": [
    {
     "data": {
      "text/plain": [
       "Index(['NOMDIS', 'NOMBRE'], dtype='object')"
      ]
     },
     "execution_count": 80,
     "metadata": {},
     "output_type": "execute_result"
    }
   ],
   "source": [
    "barrios.columns"
   ]
  },
  {
   "cell_type": "code",
   "execution_count": 81,
   "metadata": {},
   "outputs": [],
   "source": [
    "barrios = barrios.rename(columns={'NOMDIS': 'District', 'NOMBRE': 'Neighbourhood'})"
   ]
  },
  {
   "cell_type": "code",
   "execution_count": 83,
   "metadata": {},
   "outputs": [
    {
     "data": {
      "text/plain": [
       "array(['Villaverde', 'Usera', 'Villa de Vallecas', 'Carabanchel',\n",
       "       'Latina', 'Puente de Vallecas', 'Arganzuela', 'Moratalaz',\n",
       "       'Vicálvaro', 'Retiro', 'Centro', 'San Blas - Canillejas',\n",
       "       'Salamanca', 'Ciudad Lineal', 'Moncloa - Aravaca', 'Chamberí',\n",
       "       'Chamartín', 'Tetuán', 'Hortaleza', 'Barajas',\n",
       "       'Fuencarral - El Pardo'], dtype=object)"
      ]
     },
     "execution_count": 83,
     "metadata": {},
     "output_type": "execute_result"
    }
   ],
   "source": [
    "barrios.District.unique()"
   ]
  },
  {
   "cell_type": "code",
   "execution_count": 84,
   "metadata": {},
   "outputs": [
    {
     "data": {
      "text/plain": [
       "21"
      ]
     },
     "execution_count": 84,
     "metadata": {},
     "output_type": "execute_result"
    }
   ],
   "source": [
    "len(barrios.District.unique())"
   ]
  },
  {
   "cell_type": "code",
   "execution_count": null,
   "metadata": {},
   "outputs": [],
   "source": []
  }
 ],
 "metadata": {
  "kernelspec": {
   "display_name": "base",
   "language": "python",
   "name": "python3"
  },
  "language_info": {
   "codemirror_mode": {
    "name": "ipython",
    "version": 3
   },
   "file_extension": ".py",
   "mimetype": "text/x-python",
   "name": "python",
   "nbconvert_exporter": "python",
   "pygments_lexer": "ipython3",
   "version": "3.10.9"
  },
  "orig_nbformat": 4
 },
 "nbformat": 4,
 "nbformat_minor": 2
}
