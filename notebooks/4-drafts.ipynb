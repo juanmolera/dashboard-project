{
 "cells": [
  {
   "cell_type": "code",
   "execution_count": null,
   "metadata": {},
   "outputs": [],
   "source": [
    "# Data manipulation\n",
    "import pandas as pd # data manipulation and dataframes\n",
    "\n",
    "# Data visualization\n",
    "import plotly.express as px\n",
    "import matplotlib.pyplot as plt\n",
    "import seaborn as sns\n",
    "\n",
    "import calendar"
   ]
  },
  {
   "cell_type": "code",
   "execution_count": null,
   "metadata": {},
   "outputs": [],
   "source": [
    "# Pandas configuration\n",
    "pd.set_option('display.max_columns', None)  # shows all columns\n",
    "pd.set_option('display.max_colwidth', None)  # shows all cell content"
   ]
  },
  {
   "cell_type": "code",
   "execution_count": null,
   "metadata": {},
   "outputs": [],
   "source": [
    "# Reads csv\n",
    "airbnb_madrid = pd.read_csv('../raw/eda-result/airbnb_madrid.csv', encoding='utf-8')\n",
    "listings = pd.read_csv('../raw/airbnb/madrid/listings.csv', encoding='utf-8')"
   ]
  },
  {
   "cell_type": "code",
   "execution_count": null,
   "metadata": {},
   "outputs": [],
   "source": [
    "listings.head(1)"
   ]
  },
  {
   "cell_type": "code",
   "execution_count": null,
   "metadata": {},
   "outputs": [],
   "source": [
    "len(listings['name'].unique().tolist())"
   ]
  },
  {
   "cell_type": "code",
   "execution_count": null,
   "metadata": {},
   "outputs": [],
   "source": [
    "airbnb_madrid.head(1)"
   ]
  },
  {
   "cell_type": "code",
   "execution_count": null,
   "metadata": {},
   "outputs": [],
   "source": [
    "#airbnb_madrid['Last review'] = airbnb_madrid['Last review'].fillna('2023-07-26')\n",
    "airbnb_madrid = airbnb_madrid.dropna()"
   ]
  },
  {
   "cell_type": "code",
   "execution_count": null,
   "metadata": {},
   "outputs": [],
   "source": [
    "airbnb_madrid[\"Last review\"] = pd.to_datetime(airbnb_madrid[\"Last review\"])\n",
    "airbnb_madrid['Year'] = airbnb_madrid['Last review'].dt.strftime('%Y')\n"
   ]
  },
  {
   "cell_type": "code",
   "execution_count": null,
   "metadata": {},
   "outputs": [],
   "source": [
    "airbnb_madrid[airbnb_madrid['Last review'].dt.year == 2018].value_counts().sum()"
   ]
  },
  {
   "cell_type": "code",
   "execution_count": null,
   "metadata": {},
   "outputs": [],
   "source": [
    "airbnb_madrid['Last review'].dt.year.unique().tolist()"
   ]
  },
  {
   "cell_type": "code",
   "execution_count": null,
   "metadata": {},
   "outputs": [],
   "source": [
    "months = airbnb_madrid['Last review'].dt.month.unique().tolist()"
   ]
  },
  {
   "cell_type": "code",
   "execution_count": null,
   "metadata": {},
   "outputs": [],
   "source": [
    "airbnb_madrid['Last review'].dt.month[airbnb_madrid['Last review'].dt.year == 2022].value_counts().sum()"
   ]
  },
  {
   "cell_type": "code",
   "execution_count": null,
   "metadata": {},
   "outputs": [],
   "source": [
    "districts = airbnb_madrid['District'].unique().tolist()"
   ]
  },
  {
   "cell_type": "code",
   "execution_count": null,
   "metadata": {},
   "outputs": [],
   "source": [
    "total_airbnbs_by_month_2022 = {'Month': [], 'Airbnb reviews': []}\n",
    "\n",
    "for m in months:\n",
    "    total_airbnbs_by_month_2022['Month'].append(m)\n",
    "    total_airbnbs_by_month_2022['Airbnb reviews'].append(airbnb_madrid[(airbnb_madrid['Last review'].dt.year == 2022) & (airbnb_madrid['Last review'].dt.month == m)].value_counts().sum())\n",
    "\n",
    "total_airbnbs_by_month_2023 = {'Month': [], 'Airbnb reviews': []}\n",
    "\n",
    "for m in months:\n",
    "    total_airbnbs_by_month_2023['Month'].append(m)\n",
    "    total_airbnbs_by_month_2023['Airbnb reviews'].append(airbnb_madrid[(airbnb_madrid['Last review'].dt.year == 2023) & (airbnb_madrid['Last review'].dt.month == m)].value_counts().sum())"
   ]
  },
  {
   "cell_type": "code",
   "execution_count": null,
   "metadata": {},
   "outputs": [],
   "source": [
    "total_airbnbs_by_month_2022"
   ]
  },
  {
   "cell_type": "code",
   "execution_count": null,
   "metadata": {},
   "outputs": [],
   "source": [
    "total_airbnbs_by_month_2022 = pd.DataFrame.from_dict(total_airbnbs_by_month_2022)\n",
    "total_airbnbs_by_month_2022"
   ]
  },
  {
   "cell_type": "code",
   "execution_count": null,
   "metadata": {},
   "outputs": [],
   "source": [
    "total_airbnbs_by_month_2023"
   ]
  },
  {
   "cell_type": "code",
   "execution_count": null,
   "metadata": {},
   "outputs": [],
   "source": [
    "df2022 = pd.DataFrame.from_dict(total_airbnbs_by_month_2022)\n",
    "df2022 = df2022.sort_values(by=['Month'])\n",
    "df2022"
   ]
  },
  {
   "cell_type": "code",
   "execution_count": null,
   "metadata": {},
   "outputs": [],
   "source": [
    "df2023 = pd.DataFrame.from_dict(total_airbnbs_by_month_2023)\n",
    "df2023 = df2023.sort_values(by=['Month'])\n",
    "df2023"
   ]
  },
  {
   "cell_type": "code",
   "execution_count": null,
   "metadata": {},
   "outputs": [],
   "source": [
    "list_months_2022 = ['January 2022', 'February 2022', 'March 2022', 'April 2022', 'May 2022', 'June 2022', 'July 2022', 'August 2022', 'September 2022', 'October 2022', 'November 2022', 'December 2022']"
   ]
  },
  {
   "cell_type": "code",
   "execution_count": null,
   "metadata": {},
   "outputs": [],
   "source": [
    "df2022['Month'] = list_months_2022\n",
    "df2022"
   ]
  },
  {
   "cell_type": "code",
   "execution_count": null,
   "metadata": {},
   "outputs": [],
   "source": [
    "list_months_2023 = ['January 2023', 'February 2023', 'March 2023', 'April 2023', 'May 2023', 'June 2023', 'July 2023', 'August 2023', 'September 2023', 'October 2023', 'November 2023', 'December 2023']"
   ]
  },
  {
   "cell_type": "code",
   "execution_count": null,
   "metadata": {},
   "outputs": [],
   "source": [
    "df2023['Month'] = list_months_2023\n",
    "df2023"
   ]
  },
  {
   "cell_type": "code",
   "execution_count": null,
   "metadata": {},
   "outputs": [],
   "source": [
    "frames = [df2022, df2023]\n",
    "\n",
    "result = pd.concat(frames)"
   ]
  },
  {
   "cell_type": "code",
   "execution_count": null,
   "metadata": {},
   "outputs": [],
   "source": [
    "result = result.loc[(result!=0).all(axis=1)]\n",
    "result.to_csv('../raw/eda-result/reviews_per_month_airbnb.csv', index = False, sep = ',')\n",
    "result\n"
   ]
  },
  {
   "cell_type": "code",
   "execution_count": null,
   "metadata": {},
   "outputs": [],
   "source": [
    "cmap_mpl = plt.get_cmap(\"YlOrRd\")\n",
    "cmap_mpl"
   ]
  },
  {
   "cell_type": "code",
   "execution_count": null,
   "metadata": {},
   "outputs": [],
   "source": [
    "fig = px.histogram(result, x=result['Month'], y=result['Airbnb reviews'], text_auto='.2s', color=result['Month'])\n",
    "fig.update_traces(textfont_size=12, textangle=0, textposition='outside', cliponaxis=False)\n",
    "\n",
    "\n",
    "fig.show()"
   ]
  },
  {
   "cell_type": "code",
   "execution_count": null,
   "metadata": {},
   "outputs": [],
   "source": []
  },
  {
   "cell_type": "code",
   "execution_count": null,
   "metadata": {},
   "outputs": [],
   "source": []
  },
  {
   "cell_type": "code",
   "execution_count": null,
   "metadata": {},
   "outputs": [],
   "source": []
  },
  {
   "cell_type": "code",
   "execution_count": null,
   "metadata": {},
   "outputs": [],
   "source": []
  },
  {
   "cell_type": "code",
   "execution_count": null,
   "metadata": {},
   "outputs": [],
   "source": []
  },
  {
   "cell_type": "code",
   "execution_count": null,
   "metadata": {},
   "outputs": [],
   "source": []
  }
 ],
 "metadata": {
  "kernelspec": {
   "display_name": "base",
   "language": "python",
   "name": "python3"
  },
  "language_info": {
   "codemirror_mode": {
    "name": "ipython",
    "version": 3
   },
   "file_extension": ".py",
   "mimetype": "text/x-python",
   "name": "python",
   "nbconvert_exporter": "python",
   "pygments_lexer": "ipython3",
   "version": "3.10.9"
  },
  "orig_nbformat": 4
 },
 "nbformat": 4,
 "nbformat_minor": 2
}
