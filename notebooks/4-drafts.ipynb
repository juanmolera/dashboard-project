{
 "cells": [
  {
   "cell_type": "code",
   "execution_count": null,
   "metadata": {},
   "outputs": [],
   "source": [
    "# Data manipulation\n",
    "import pandas as pd # data manipulation and dataframes\n",
    "\n",
    "# Data visualization\n",
    "import plotly.express as px"
   ]
  },
  {
   "cell_type": "code",
   "execution_count": null,
   "metadata": {},
   "outputs": [],
   "source": [
    "# Pandas configuration\n",
    "pd.set_option('display.max_columns', None)  # shows all columns\n",
    "pd.set_option('display.max_colwidth', None)  # shows all cell content"
   ]
  },
  {
   "cell_type": "code",
   "execution_count": null,
   "metadata": {},
   "outputs": [],
   "source": [
    "# Reads csv\n",
    "airbnb_lisbon = pd.read_csv('../data/airbnb_lisbon.csv', encoding='utf-8')\n",
    "ine_lisbon = pd.read_csv('../raw/ine-portugal/ine21_neighbourhood_lisbon.csv', delimiter=';', on_bad_lines='skip')"
   ]
  },
  {
   "cell_type": "code",
   "execution_count": null,
   "metadata": {},
   "outputs": [],
   "source": [
    "ine_lisbon"
   ]
  },
  {
   "cell_type": "code",
   "execution_count": null,
   "metadata": {},
   "outputs": [],
   "source": [
    "ine_lisbon[['Neighbourhood', 'Population']] = ine_lisbon[['Place of residence at Census date [2021] (NUTS - 2013)', 'S7A2021:2021-T:MF-T:Total']]\n",
    "ine_lisbon = ine_lisbon[['Neighbourhood', 'Population']]"
   ]
  },
  {
   "cell_type": "code",
   "execution_count": null,
   "metadata": {},
   "outputs": [],
   "source": [
    "ine_lisbon"
   ]
  },
  {
   "cell_type": "code",
   "execution_count": null,
   "metadata": {},
   "outputs": [],
   "source": [
    "aux = ine_lisbon['Neighbourhood'].tolist()\n",
    "nei = []\n",
    "\n",
    "for a in aux:\n",
    "\n",
    "    nei.append(a.split(':')[1])\n",
    "\n",
    "ine_lisbon['Neighbourhood'] = nei\n",
    "\n",
    "ine_lisbon"
   ]
  },
  {
   "cell_type": "code",
   "execution_count": null,
   "metadata": {},
   "outputs": [],
   "source": [
    "len(airbnb_lisbon['Neighbourhood'].unique().tolist())"
   ]
  },
  {
   "cell_type": "code",
   "execution_count": null,
   "metadata": {},
   "outputs": [],
   "source": [
    "lst = ine_lisbon['Neighbourhood'].unique().tolist()"
   ]
  },
  {
   "cell_type": "code",
   "execution_count": null,
   "metadata": {},
   "outputs": [],
   "source": [
    "lst"
   ]
  },
  {
   "cell_type": "code",
   "execution_count": null,
   "metadata": {},
   "outputs": [],
   "source": [
    "deletions = ['União das freguesias de ', 'União das freguesias do ', ' (Santo Estêvão e Triana)', ' (Santa Maria e São Miguel, São Martinho e São Pedro de Penaferrim)']"
   ]
  },
  {
   "cell_type": "code",
   "execution_count": null,
   "metadata": {},
   "outputs": [],
   "source": [
    "aux = []\n",
    "\n",
    "for l in lst:\n",
    "\n",
    "    for d in deletions:\n",
    "\n",
    "        if d in l:\n",
    "\n",
    "            a = l.replace(d,'')\n",
    "            break\n",
    "\n",
    "        else:\n",
    "\n",
    "            a = l\n",
    "\n",
    "    aux.append(a)\n",
    "\n",
    "aux"
   ]
  },
  {
   "cell_type": "code",
   "execution_count": null,
   "metadata": {},
   "outputs": [],
   "source": [
    "print(len(airbnb_lisbon['Neighbourhood'].unique().tolist()), len(aux))"
   ]
  },
  {
   "cell_type": "code",
   "execution_count": null,
   "metadata": {},
   "outputs": [],
   "source": [
    "count = 0 \n",
    "\n",
    "for a in aux:\n",
    "\n",
    "    if a in airbnb_lisbon['Neighbourhood'].unique().tolist():\n",
    "\n",
    "        count += 1\n",
    "\n",
    "count"
   ]
  },
  {
   "cell_type": "code",
   "execution_count": null,
   "metadata": {},
   "outputs": [],
   "source": [
    "airbnb_lisbon['Neighbourhood'].unique().tolist()"
   ]
  },
  {
   "cell_type": "code",
   "execution_count": null,
   "metadata": {},
   "outputs": [],
   "source": [
    "raw_lisbon = pd.read_csv('../raw/airbnb/lisbon/listings.csv', encoding='utf-8')"
   ]
  },
  {
   "cell_type": "code",
   "execution_count": null,
   "metadata": {},
   "outputs": [],
   "source": [
    "raw_lisbon['neighbourhood'].unique().tolist()"
   ]
  },
  {
   "cell_type": "code",
   "execution_count": null,
   "metadata": {},
   "outputs": [],
   "source": [
    "airbnb_lisbon = pd.read_csv('../data/airbnb_lisbon.csv', encoding='utf-8')\n",
    "ine_lisbon = pd.read_csv('../raw/ine-portugal/ine21_neighbourhood_lisbon.csv', delimiter=';', on_bad_lines='skip')"
   ]
  },
  {
   "cell_type": "code",
   "execution_count": null,
   "metadata": {},
   "outputs": [],
   "source": []
  },
  {
   "cell_type": "code",
   "execution_count": null,
   "metadata": {},
   "outputs": [],
   "source": []
  },
  {
   "cell_type": "code",
   "execution_count": null,
   "metadata": {},
   "outputs": [],
   "source": []
  },
  {
   "cell_type": "code",
   "execution_count": null,
   "metadata": {},
   "outputs": [],
   "source": []
  },
  {
   "cell_type": "code",
   "execution_count": null,
   "metadata": {},
   "outputs": [],
   "source": []
  },
  {
   "cell_type": "code",
   "execution_count": null,
   "metadata": {},
   "outputs": [],
   "source": []
  },
  {
   "cell_type": "code",
   "execution_count": null,
   "metadata": {},
   "outputs": [],
   "source": []
  }
 ],
 "metadata": {
  "kernelspec": {
   "display_name": "base",
   "language": "python",
   "name": "python3"
  },
  "language_info": {
   "codemirror_mode": {
    "name": "ipython",
    "version": 3
   },
   "file_extension": ".py",
   "mimetype": "text/x-python",
   "name": "python",
   "nbconvert_exporter": "python",
   "pygments_lexer": "ipython3",
   "version": "3.10.9"
  },
  "orig_nbformat": 4
 },
 "nbformat": 4,
 "nbformat_minor": 2
}
