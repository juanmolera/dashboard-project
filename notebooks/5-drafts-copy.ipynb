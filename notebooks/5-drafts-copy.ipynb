{
 "cells": [
  {
   "cell_type": "code",
   "execution_count": null,
   "metadata": {},
   "outputs": [],
   "source": [
    "# Data manipulation\n",
    "import pandas as pd # data manipulation and dataframes\n",
    "\n",
    "# Data visualization\n",
    "import plotly.express as px"
   ]
  },
  {
   "cell_type": "code",
   "execution_count": null,
   "metadata": {},
   "outputs": [],
   "source": [
    "# Pandas configuration\n",
    "pd.set_option('display.max_columns', None)  # shows all columns\n",
    "pd.set_option('display.max_colwidth', None)  # shows all cell content"
   ]
  },
  {
   "cell_type": "code",
   "execution_count": null,
   "metadata": {},
   "outputs": [],
   "source": [
    "# Reads csv\n",
    "airbnb_madrid = pd.read_csv('../raw/eda-result/airbnb_madrid.csv', encoding='utf-8')\n",
    "listings = pd.read_csv('../raw/airbnb/madrid/listings.csv', encoding='utf-8')"
   ]
  },
  {
   "cell_type": "code",
   "execution_count": null,
   "metadata": {},
   "outputs": [],
   "source": [
    "listings.head(1)"
   ]
  },
  {
   "cell_type": "code",
   "execution_count": null,
   "metadata": {},
   "outputs": [],
   "source": [
    "len(listings['name'].unique().tolist())"
   ]
  },
  {
   "cell_type": "code",
   "execution_count": null,
   "metadata": {},
   "outputs": [],
   "source": [
    "airbnb_madrid.head(1)"
   ]
  },
  {
   "cell_type": "code",
   "execution_count": null,
   "metadata": {},
   "outputs": [],
   "source": [
    "#airbnb_madrid['Last review'] = airbnb_madrid['Last review'].fillna('2023-07-26')\n",
    "#airbnb_madrid = airbnb_madrid.dropna()"
   ]
  },
  {
   "cell_type": "code",
   "execution_count": null,
   "metadata": {},
   "outputs": [],
   "source": [
    "airbnb_madrid[\"Last review\"] = pd.to_datetime(airbnb_madrid[\"Last review\"])\n",
    "airbnb_madrid['Year'] = airbnb_madrid['Last review'].dt.strftime('%Y')\n"
   ]
  },
  {
   "cell_type": "code",
   "execution_count": null,
   "metadata": {},
   "outputs": [],
   "source": [
    "airbnb_madrid[airbnb_madrid['Last review'].dt.year == 2018].value_counts().sum()"
   ]
  },
  {
   "cell_type": "code",
   "execution_count": null,
   "metadata": {},
   "outputs": [],
   "source": [
    "airbnb_madrid['Price'][airbnb_madrid['District'] == 'Chamartín'].mean()"
   ]
  },
  {
   "cell_type": "code",
   "execution_count": null,
   "metadata": {},
   "outputs": [],
   "source": [
    "airbnb_madrid['Last review'].dt.year.unique().tolist()"
   ]
  },
  {
   "cell_type": "code",
   "execution_count": null,
   "metadata": {},
   "outputs": [],
   "source": [
    "months = airbnb_madrid['Last review'].dt.month.unique().tolist()\n",
    "months = [5, 6]\n",
    "months"
   ]
  },
  {
   "cell_type": "code",
   "execution_count": null,
   "metadata": {},
   "outputs": [],
   "source": [
    "airbnb_madrid['Last review'].dt.month[airbnb_madrid['Last review'].dt.year == 2022].value_counts().sum()"
   ]
  },
  {
   "cell_type": "code",
   "execution_count": null,
   "metadata": {},
   "outputs": [],
   "source": [
    "districts = airbnb_madrid['District'].unique().tolist()"
   ]
  },
  {
   "cell_type": "code",
   "execution_count": null,
   "metadata": {},
   "outputs": [],
   "source": [
    "total_airbnbs_by_month_2023 = {'Month': [], 'Mean price': [], 'District': []}\n",
    "\n",
    "for d in districts:\n",
    "    for m in months:\n",
    "        total_airbnbs_by_month_2023['Month'].append(m)\n",
    "        total_airbnbs_by_month_2023['District'].append(d)\n",
    "        total_airbnbs_by_month_2023['Mean price'].append(airbnb_madrid['Price'][(airbnb_madrid['Last review'].dt.year == 2023) & (airbnb_madrid['Last review'].dt.month == m) & (airbnb_madrid['District'] == d)].mean())"
   ]
  },
  {
   "cell_type": "code",
   "execution_count": null,
   "metadata": {},
   "outputs": [],
   "source": [
    "df2023 = pd.DataFrame.from_dict(total_airbnbs_by_month_2023)\n",
    "df2023 = df2023.sort_values(by=['Month'])"
   ]
  },
  {
   "cell_type": "code",
   "execution_count": null,
   "metadata": {},
   "outputs": [],
   "source": [
    "list_months_2023 = ['May 2023', 'June 2023']\n",
    "dict_months_2023 = {5: 'May 2023', 6: 'June 2023'}\n",
    "dict_months_2023"
   ]
  },
  {
   "cell_type": "code",
   "execution_count": null,
   "metadata": {},
   "outputs": [],
   "source": [
    "df2023['Month'] = df2023['Month'].map(dict_months_2023)\n",
    "df2023.to_csv('../raw/eda-result/mean_price_by_district.csv', index=False, sep=',')\n",
    "df2023"
   ]
  },
  {
   "cell_type": "code",
   "execution_count": null,
   "metadata": {},
   "outputs": [],
   "source": [
    "fig = px.histogram(df2023, x=df2023['District'][df2023['Month'] == 'May 2023'], y=df2023['Mean price'][df2023['Month'] == 'May 2023'], text_auto='.2s', color=df2023['District'][df2023['Month'] == 'May 2023'])\n",
    "fig.update_traces(textfont_size=12, textangle=0, textposition='outside', cliponaxis=False)\n",
    "fig.update_xaxes(categoryorder = 'total descending')\n",
    "fig.show()"
   ]
  },
  {
   "cell_type": "code",
   "execution_count": null,
   "metadata": {},
   "outputs": [],
   "source": [
    "fig = px.histogram(df2023, x=df2023['District'][df2023['Month'] == 'June 2023'], y=df2023['Mean price'][df2023['Month'] == 'June 2023'], text_auto='.2s', color=df2023['District'][df2023['Month'] == 'June 2023'])\n",
    "fig.update_traces(textfont_size=12, textangle=0, textposition='outside', cliponaxis=False)\n",
    "fig.update_xaxes(categoryorder = 'total descending')\n",
    "fig.show()"
   ]
  },
  {
   "cell_type": "code",
   "execution_count": null,
   "metadata": {},
   "outputs": [],
   "source": []
  },
  {
   "cell_type": "code",
   "execution_count": null,
   "metadata": {},
   "outputs": [],
   "source": []
  }
 ],
 "metadata": {
  "kernelspec": {
   "display_name": "base",
   "language": "python",
   "name": "python3"
  },
  "language_info": {
   "codemirror_mode": {
    "name": "ipython",
    "version": 3
   },
   "file_extension": ".py",
   "mimetype": "text/x-python",
   "name": "python",
   "nbconvert_exporter": "python",
   "pygments_lexer": "ipython3",
   "version": "3.10.9"
  },
  "orig_nbformat": 4
 },
 "nbformat": 4,
 "nbformat_minor": 2
}
