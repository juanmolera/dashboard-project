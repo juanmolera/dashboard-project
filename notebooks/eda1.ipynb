{
 "cells": [
  {
   "cell_type": "code",
   "execution_count": 41,
   "metadata": {},
   "outputs": [],
   "source": [
    "# Data manipulation\n",
    "import pandas as pd # data manipulation and dataframes\n",
    "import numpy as np # arrays manipulation and mathematical operations\n",
    "\n",
    "# Data visualization\n",
    "import matplotlib.pyplot as plt\n",
    "import seaborn as sns\n",
    "\n",
    "# Te quiero demasiado\n",
    "from tqdm import tqdm"
   ]
  },
  {
   "cell_type": "code",
   "execution_count": 42,
   "metadata": {},
   "outputs": [],
   "source": [
    "# Pandas configuration\n",
    "pd.set_option('display.max_columns', None)  # shows all columns\n",
    "pd.set_option('display.max_colwidth', None)  # shows all cell content"
   ]
  },
  {
   "cell_type": "code",
   "execution_count": 43,
   "metadata": {},
   "outputs": [],
   "source": [
    "# Reads csvs\n",
    "mad_df = pd.read_csv('../data/airbnb/mad/listings.csv', index_col = 0)\n",
    "porto_df = pd.read_csv('../data/airbnb/porto/listings.csv', index_col = 0)\n",
    "lisbon_df = pd.read_csv('../data/airbnb/lisbon/listings.csv', index_col = 0)\n",
    "\n",
    "# Index\n",
    "mad_df.reset_index(drop = False, inplace = True)\n",
    "porto_df.reset_index(drop = False, inplace = True)\n",
    "lisbon_df.reset_index(drop = False, inplace = True)"
   ]
  },
  {
   "attachments": {},
   "cell_type": "markdown",
   "metadata": {},
   "source": [
    "### limpieza para introducir en kepler.gl"
   ]
  },
  {
   "cell_type": "code",
   "execution_count": 44,
   "metadata": {},
   "outputs": [
    {
     "data": {
      "text/plain": [
       "\"mad_df.to_csv('../data/kepler/mad_kepler.csv', index = False, sep = ',')\\nporto_df.to_csv('../data/kepler/porto_kepler.csv', index = False, sep = ',')\\nlisbon_df.to_csv('../data/kepler/lisbon_kepler.csv', index = False, sep = ',')\""
      ]
     },
     "execution_count": 44,
     "metadata": {},
     "output_type": "execute_result"
    }
   ],
   "source": [
    "'''mad_df.to_csv('../data/kepler/mad_kepler.csv', index = False, sep = ',')\n",
    "porto_df.to_csv('../data/kepler/porto_kepler.csv', index = False, sep = ',')\n",
    "lisbon_df.to_csv('../data/kepler/lisbon_kepler.csv', index = False, sep = ',')'''"
   ]
  },
  {
   "cell_type": "code",
   "execution_count": 45,
   "metadata": {},
   "outputs": [],
   "source": [
    "def get_description_score_facilities(df_name_col):\n",
    "\n",
    "    name = df_name_col.tolist()\n",
    "\n",
    "    aux = []\n",
    "\n",
    "    for n in name:\n",
    "\n",
    "        aux.append(n.split('·'))\n",
    "\n",
    "    description = []\n",
    "    score = []\n",
    "    facilities_prev = []\n",
    "\n",
    "    for sublist in aux:\n",
    "\n",
    "        description.append(sublist[0].capitalize().rstrip(' '))\n",
    "        sublist.remove(sublist[0])\n",
    "\n",
    "        if '★' in sublist[0]:\n",
    "\n",
    "            score.append(sublist[0].rstrip(' ').lstrip(' '))\n",
    "            sublist.remove(sublist[0])\n",
    "        \n",
    "        else:\n",
    "\n",
    "            score.append('★Unknown')\n",
    "\n",
    "        facilities_prev.append(sublist[:])\n",
    "\n",
    "    for sublist in facilities_prev:\n",
    "\n",
    "        sublist[-1] = sublist[-1] + ' '\n",
    "\n",
    "    facilities = []\n",
    "\n",
    "    for sublist in facilities_prev:\n",
    "\n",
    "        aux2 = []\n",
    "\n",
    "        for e in sublist:\n",
    "\n",
    "            e = e.rstrip(' ').lstrip(' ')\n",
    "\n",
    "            aux2.append(e)\n",
    "\n",
    "        facilities.append(aux2)\n",
    "\n",
    "    return [description, score, facilities]"
   ]
  },
  {
   "cell_type": "code",
   "execution_count": 46,
   "metadata": {},
   "outputs": [],
   "source": [
    "mad_df['description'] = get_description_score_facilities(mad_df.name)[0]\n",
    "mad_df['score'] = get_description_score_facilities(mad_df.name)[1]\n",
    "mad_df['facilities'] = get_description_score_facilities(mad_df.name)[2]\n",
    "mad_df['facilities'] = mad_df['facilities'].apply(lambda x: ', '.join(map(str, x)))\n",
    "\n",
    "porto_df['description'] = get_description_score_facilities(porto_df.name)[0]\n",
    "porto_df['score'] = get_description_score_facilities(porto_df.name)[1]\n",
    "porto_df['facilities'] = get_description_score_facilities(porto_df.name)[2]\n",
    "porto_df['facilities'] = porto_df['facilities'].apply(lambda x: ', '.join(map(str, x)))\n",
    "\n",
    "lisbon_df['description'] = get_description_score_facilities(lisbon_df.name)[0]\n",
    "lisbon_df['score'] = get_description_score_facilities(lisbon_df.name)[1]\n",
    "lisbon_df['facilities'] = get_description_score_facilities(lisbon_df.name)[2]\n",
    "lisbon_df['facilities'] = lisbon_df['facilities'].apply(lambda x: ', '.join(map(str, x)))"
   ]
  },
  {
   "cell_type": "code",
   "execution_count": 47,
   "metadata": {},
   "outputs": [],
   "source": [
    "# Drops\n",
    "mad_df.drop(['id', 'host_id', 'name', 'reviews_per_month', 'calculated_host_listings_count', 'number_of_reviews_ltm', 'license'], axis=1, inplace=True)\n",
    "porto_df.drop(['id', 'host_id', 'name', 'reviews_per_month', 'calculated_host_listings_count', 'number_of_reviews_ltm', 'license'], axis=1, inplace=True)\n",
    "lisbon_df.drop(['id', 'host_id', 'name', 'reviews_per_month', 'calculated_host_listings_count', 'number_of_reviews_ltm', 'license'], axis=1, inplace=True)\n",
    "\n",
    "# Rename col\n",
    "mad_df = mad_df.rename(columns={'neighbourhood_group': 'district'})\n",
    "porto_df = porto_df.rename(columns={'neighbourhood_group': 'district'})\n",
    "lisbon_df = lisbon_df.rename(columns={'neighbourhood_group': 'district'})"
   ]
  },
  {
   "cell_type": "code",
   "execution_count": 48,
   "metadata": {},
   "outputs": [],
   "source": [
    "col_order = ['description', 'score', 'facilities', \n",
    "            'district', 'neighbourhood', \n",
    "            'room_type', 'price', 'minimum_nights',\n",
    "            'host_name','number_of_reviews', 'last_review',\n",
    "            'latitude', 'longitude']"
   ]
  },
  {
   "cell_type": "code",
   "execution_count": 49,
   "metadata": {},
   "outputs": [],
   "source": [
    "mad_df = mad_df[col_order]\n",
    "porto_df = porto_df[col_order]\n",
    "lisbon_df = lisbon_df[col_order]"
   ]
  },
  {
   "cell_type": "code",
   "execution_count": null,
   "metadata": {},
   "outputs": [],
   "source": []
  },
  {
   "cell_type": "code",
   "execution_count": null,
   "metadata": {},
   "outputs": [],
   "source": []
  },
  {
   "cell_type": "code",
   "execution_count": null,
   "metadata": {},
   "outputs": [],
   "source": []
  },
  {
   "cell_type": "code",
   "execution_count": null,
   "metadata": {},
   "outputs": [],
   "source": []
  },
  {
   "cell_type": "code",
   "execution_count": null,
   "metadata": {},
   "outputs": [],
   "source": []
  },
  {
   "cell_type": "code",
   "execution_count": null,
   "metadata": {},
   "outputs": [],
   "source": []
  }
 ],
 "metadata": {
  "kernelspec": {
   "display_name": "base",
   "language": "python",
   "name": "python3"
  },
  "language_info": {
   "codemirror_mode": {
    "name": "ipython",
    "version": 3
   },
   "file_extension": ".py",
   "mimetype": "text/x-python",
   "name": "python",
   "nbconvert_exporter": "python",
   "pygments_lexer": "ipython3",
   "version": "3.10.9"
  },
  "orig_nbformat": 4
 },
 "nbformat": 4,
 "nbformat_minor": 2
}
