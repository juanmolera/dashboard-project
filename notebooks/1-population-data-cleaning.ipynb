{
 "cells": [
  {
   "cell_type": "code",
   "execution_count": 43,
   "metadata": {},
   "outputs": [],
   "source": [
    "# Data manipulation\n",
    "import pandas as pd # data manipulation and dataframes"
   ]
  },
  {
   "cell_type": "code",
   "execution_count": 44,
   "metadata": {},
   "outputs": [],
   "source": [
    "# Pandas configuration\n",
    "pd.set_option('display.max_columns', None)  # shows all columns\n",
    "pd.set_option('display.max_colwidth', None)  # shows all cell content"
   ]
  },
  {
   "cell_type": "code",
   "execution_count": 45,
   "metadata": {},
   "outputs": [],
   "source": [
    "# Reads csv and creates a dataframe\n",
    "airbnb_porto = pd.read_csv('../data/airbnb_porto.csv')\n",
    "ine_porto = pd.read_csv('../raw/ine-portugal/ine21_district_porto.csv', delimiter=';')"
   ]
  },
  {
   "attachments": {},
   "cell_type": "markdown",
   "metadata": {},
   "source": [
    "# Porto"
   ]
  },
  {
   "cell_type": "code",
   "execution_count": 46,
   "metadata": {},
   "outputs": [],
   "source": [
    "# Cleans raw population data from portuguesh ine and gets a csv with the population for each district in Porto city\n",
    "\n",
    "ine_porto[['District', 'Population']] = ine_porto[['Place of residence at Census date [2021] (NUTS - 2013)', 'S7A2021:2021-T:MF-T:Total']]\n",
    "ine_porto = ine_porto[['District', 'Population']]\n",
    "\n",
    "aux = ine_porto['District'].tolist()\n",
    "dis = []\n",
    "\n",
    "for a in aux:\n",
    "\n",
    "    dis.append(a.split(':')[1])\n",
    "\n",
    "ine_porto['District'] = dis\n",
    "ine_porto.to_csv('../raw/eda-result/population_by_district_porto.csv', index = False, sep = ',')"
   ]
  },
  {
   "cell_type": "code",
   "execution_count": 47,
   "metadata": {},
   "outputs": [],
   "source": [
    "# Renames district names in clean airbnb csv because they were written all in caps in raw airbnb data\n",
    "\n",
    "hada_dict = {}\n",
    "old_district_names = sorted(airbnb_porto['District'].unique().tolist())\n",
    "new_district_names = ine_porto['District'].tolist()\n",
    "\n",
    "for i in range(0, len(old_district_names)):\n",
    "\n",
    "    hada_dict[old_district_names[i]] = new_district_names[i]\n",
    "\n",
    "airbnb_porto['District'] = airbnb_porto['District'].map(hada_dict)\n",
    "airbnb_porto.to_csv(f'../raw/eda-result/airbnb_porto.csv', index = False, sep = ',')"
   ]
  },
  {
   "attachments": {},
   "cell_type": "markdown",
   "metadata": {},
   "source": [
    "# Lisbon"
   ]
  },
  {
   "cell_type": "code",
   "execution_count": null,
   "metadata": {},
   "outputs": [],
   "source": []
  },
  {
   "cell_type": "code",
   "execution_count": null,
   "metadata": {},
   "outputs": [],
   "source": []
  },
  {
   "cell_type": "code",
   "execution_count": null,
   "metadata": {},
   "outputs": [],
   "source": []
  },
  {
   "cell_type": "code",
   "execution_count": null,
   "metadata": {},
   "outputs": [],
   "source": []
  },
  {
   "cell_type": "code",
   "execution_count": null,
   "metadata": {},
   "outputs": [],
   "source": []
  },
  {
   "cell_type": "code",
   "execution_count": null,
   "metadata": {},
   "outputs": [],
   "source": []
  }
 ],
 "metadata": {
  "kernelspec": {
   "display_name": "base",
   "language": "python",
   "name": "python3"
  },
  "language_info": {
   "codemirror_mode": {
    "name": "ipython",
    "version": 3
   },
   "file_extension": ".py",
   "mimetype": "text/x-python",
   "name": "python",
   "nbconvert_exporter": "python",
   "pygments_lexer": "ipython3",
   "version": "3.10.9"
  },
  "orig_nbformat": 4
 },
 "nbformat": 4,
 "nbformat_minor": 2
}
